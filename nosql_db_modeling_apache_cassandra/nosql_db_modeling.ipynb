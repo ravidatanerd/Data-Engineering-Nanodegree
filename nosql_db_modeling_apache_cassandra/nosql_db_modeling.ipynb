{
 "cells": [
  {
   "cell_type": "markdown",
   "metadata": {},
   "source": [
    "# Part I. ETL Pipeline for Pre-Processing the Files"
   ]
  },
  {
   "cell_type": "markdown",
   "metadata": {},
   "source": [
    "#### Import Python packages "
   ]
  },
  {
   "cell_type": "code",
   "execution_count": 1,
   "metadata": {},
   "outputs": [],
   "source": [
    "# Import Python packages \n",
    "import pandas as pd\n",
    "import cassandra\n",
    "import re\n",
    "import os\n",
    "import glob\n",
    "import numpy as np\n",
    "import json\n",
    "import csv"
   ]
  },
  {
   "cell_type": "markdown",
   "metadata": {},
   "source": [
    "#### Creating list of filepaths to process original event csv data files"
   ]
  },
  {
   "cell_type": "code",
   "execution_count": 2,
   "metadata": {},
   "outputs": [
    {
     "name": "stdout",
     "output_type": "stream",
     "text": [
      "/Users/danieldiamond/Desktop/DEND_gdrive/DEND/project2_nosql_db_cassandra\n"
     ]
    }
   ],
   "source": [
    "# checking current working directory\n",
    "print(os.getcwd())\n",
    "\n",
    "# Get path to subfolder event data\n",
    "filepath = os.getcwd() + '/event_data'\n",
    "\n",
    "fnames = [os.path.join(filepath, f) for f in os.listdir(filepath) if 'csv' in f]"
   ]
  },
  {
   "cell_type": "markdown",
   "metadata": {},
   "source": [
    "#### Processing the files to create the data file csv that will be used for Apache Casssandra tables"
   ]
  },
  {
   "cell_type": "code",
   "execution_count": 3,
   "metadata": {},
   "outputs": [],
   "source": [
    "# initiating an empty list of rows that will be generated from each file\n",
    "full_data_rows_list = [] \n",
    "    \n",
    "# for every filepath in the fnames list \n",
    "for f in fnames:\n",
    "\n",
    "    # reading csv file as dataframe\n",
    "    df = pd.read_csv(f)\n",
    "        \n",
    " # extracting each data row one by one and append it        \n",
    "    for index, row in df.iterrows():\n",
    "        full_data_rows_list.append(row.tolist()) \n",
    "            \n",
    "# creating a smaller event data csv file called event_datafile_full csv that will be used to insert data into the \\\n",
    "# Apache Cassandra tables\n",
    "df = pd.DataFrame(full_data_rows_list)[[0, 2, 3, 4, 5, 6, 7, 8, 12, 13, 16]]\n",
    "df.columns = ['artist','firstName','gender','itemInSession','lastName','length',\\\n",
    "              'level','location','sessionId','song','userId']\n",
    "\n",
    "# Drop any missing artists and save to csv file\n",
    "df[df['artist'].notnull()].to_csv('event_datafile_new.csv', index=False)"
   ]
  },
  {
   "cell_type": "code",
   "execution_count": 4,
   "metadata": {},
   "outputs": [
    {
     "data": {
      "text/plain": [
       "6820"
      ]
     },
     "execution_count": 4,
     "metadata": {},
     "output_type": "execute_result"
    }
   ],
   "source": [
    "# check the number of rows in your csv file\n",
    "pd.read_csv('event_datafile_new.csv').shape[0]"
   ]
  },
  {
   "cell_type": "markdown",
   "metadata": {},
   "source": [
    "# Part II. Complete the Apache Cassandra coding portion of your project. \n",
    "\n",
    "## Now you are ready to work with the CSV file titled <font color=red>event_datafile_new.csv</font>, located within the Workspace directory.  The event_datafile_new.csv contains the following columns: \n",
    "- artist \n",
    "- firstName of user\n",
    "- gender of user\n",
    "- item number in session\n",
    "- last name of user\n",
    "- length of the song\n",
    "- level (paid or free song)\n",
    "- location of the user\n",
    "- sessionId\n",
    "- song title\n",
    "- userId\n",
    "\n",
    "The image below is a screenshot of what the denormalized data should appear like in the <font color=red>**event_datafile_new.csv**</font> after the code above is run:<br>\n",
    "\n",
    "<img src=\"images/image_event_datafile_new.jpg\">"
   ]
  },
  {
   "cell_type": "markdown",
   "metadata": {},
   "source": [
    "## Begin writing your Apache Cassandra code in the cells below"
   ]
  },
  {
   "cell_type": "markdown",
   "metadata": {},
   "source": [
    "#### Creating a Cluster"
   ]
  },
  {
   "cell_type": "code",
   "execution_count": 7,
   "metadata": {},
   "outputs": [],
   "source": [
    "from cassandra.cluster import Cluster\n",
    "cluster = Cluster(['127.0.0.1'])\n",
    "\n",
    "# To establish connection and begin executing queries, need a session\n",
    "session = cluster.connect()"
   ]
  },
  {
   "cell_type": "markdown",
   "metadata": {},
   "source": [
    "#### Create Keyspace"
   ]
  },
  {
   "cell_type": "code",
   "execution_count": 8,
   "metadata": {},
   "outputs": [],
   "source": [
    "try:\n",
    "    session.execute(\"\"\"\n",
    "    CREATE KEYSPACE IF NOT EXISTS sparkifydb\n",
    "    WITH REPLICATION =\n",
    "    { 'class' : 'SimpleStrategy',\n",
    "      'replication_factor' : 1 }\"\"\"\n",
    "                   )\n",
    "except Exception as e:\n",
    "    print (e)"
   ]
  },
  {
   "cell_type": "markdown",
   "metadata": {},
   "source": [
    "#### Set Keyspace"
   ]
  },
  {
   "cell_type": "code",
   "execution_count": 9,
   "metadata": {},
   "outputs": [],
   "source": [
    "try:\n",
    "    session.set_keyspace('sparkifydb')\n",
    "except Exception as e:\n",
    "    print (e)"
   ]
  },
  {
   "cell_type": "markdown",
   "metadata": {},
   "source": [
    "### Now we need to create tables to run the following queries. Remember, with Apache Cassandra you model the database tables on the queries you want to run."
   ]
  },
  {
   "cell_type": "markdown",
   "metadata": {},
   "source": [
    "#### Query 1\n",
    "Return the artist, song title and song's length in the music app history that was heard during  sessionId = 338, and itemInSession  = 4\n",
    "- Partition Key: sessionId\n",
    "- Cluster Column: itemInSession\n",
    "- Composite Primary Key: (sessionId, itemInSession)\n",
    "- Additional Columns: artist, song, length"
   ]
  },
  {
   "cell_type": "code",
   "execution_count": 10,
   "metadata": {},
   "outputs": [],
   "source": [
    "# Create Table\n",
    "query = \"CREATE TABLE IF NOT EXISTS session_library \"\n",
    "query = query + \"(sessionId int, itemInSession int, \\\n",
    "                 artist varchar, song varchar, length float, \\\n",
    "                 PRIMARY KEY (sessionId, itemInSession))\"\n",
    "try:\n",
    "    session.execute(query)\n",
    "except Exception as e:\n",
    "    print (e)"
   ]
  },
  {
   "cell_type": "code",
   "execution_count": 11,
   "metadata": {},
   "outputs": [],
   "source": [
    "# Insert Data from CSV\n",
    "filename = 'event_datafile_new.csv'\n",
    "\n",
    "df = pd.read_csv(filename)\n",
    "\n",
    "for index, row in df.iterrows():\n",
    "    query = \"INSERT INTO session_library \\\n",
    "             (sessionId, itemInSession, artist, song, length)\"\n",
    "    query = query + \"VALUES (%s, %s, %s, %s, %s)\"\n",
    "    session.execute(query, (int(row.sessionId), int(row.itemInSession),\n",
    "                            row.artist, row.song, float(row.length)))"
   ]
  },
  {
   "cell_type": "code",
   "execution_count": 12,
   "metadata": {},
   "outputs": [
    {
     "name": "stdout",
     "output_type": "stream",
     "text": [
      "(u'Faithless', u'Music Matters (Mark Knight Dub)', 495.30731201171875)\n"
     ]
    }
   ],
   "source": [
    "# Select data accordingly to query 1\n",
    "\n",
    "query = \"\"\"SELECT artist, song, length from session_library \n",
    "            WHERE sessionId = 338 and itemInSession = 4 ;\"\"\"\n",
    "try:\n",
    "    rows = session.execute(query)\n",
    "except Exception as e:\n",
    "    print (e)\n",
    "    \n",
    "for row in rows:\n",
    "    print (row.artist, row.song, row.length)"
   ]
  },
  {
   "cell_type": "code",
   "execution_count": 13,
   "metadata": {},
   "outputs": [],
   "source": [
    "# Drop Table\n",
    "session.execute('DROP TABLE session_library');"
   ]
  },
  {
   "cell_type": "markdown",
   "metadata": {},
   "source": [
    "### Query 2\n",
    "Return only the following: name of artist, song (sorted by itemInSession) and user (first and last name) for userid = 10, sessionid = 182\n",
    "- Partition Key: userId\n",
    "- Cluster Column: sessionId, itemInSession\n",
    "- Composite Primary Key: (userId, sessionId, itemInSession)\n",
    "- Additional Columns: firstName, lastName, artist, song"
   ]
  },
  {
   "cell_type": "code",
   "execution_count": 14,
   "metadata": {},
   "outputs": [],
   "source": [
    "# Create Table\n",
    "query = \"CREATE TABLE IF NOT EXISTS song_playlist_session \"\n",
    "query = query + \"(userId int, sessionId int, itemInSession int, \\\n",
    "                 firstName varchar, lastName varchar, \\\n",
    "                 artist varchar, song varchar, PRIMARY KEY \\\n",
    "                 (userId, sessionId, itemInSession))\"\n",
    "try:\n",
    "    session.execute(query)\n",
    "except Exception as e:\n",
    "    print (e)"
   ]
  },
  {
   "cell_type": "code",
   "execution_count": 15,
   "metadata": {},
   "outputs": [],
   "source": [
    "# Insert Data From Previous Dataframe (csv)\n",
    "for index, row in df.iterrows():\n",
    "    query = \"INSERT INTO song_playlist_session \\\n",
    "             (userId, sessionId, itemInSession, \\\n",
    "             firstName, lastName, artist, song) \"\n",
    "    query = query + \"VALUES (%s, %s, %s, %s, %s, %s, %s)\"\n",
    "    session.execute(query, (int(row.userId), int(row.sessionId), \n",
    "                            int(row.itemInSession), row.firstName, \n",
    "                            row.lastName, row.artist, row.song))"
   ]
  },
  {
   "cell_type": "code",
   "execution_count": 16,
   "metadata": {},
   "outputs": [
    {
     "name": "stdout",
     "output_type": "stream",
     "text": [
      "(u'Down To The Bone', u\"Keep On Keepin' On\", u'Sylvie', u'Cruz')\n",
      "(u'Three Drives', u'Greece 2000', u'Sylvie', u'Cruz')\n",
      "(u'Sebastien Tellier', u'Kilometer', u'Sylvie', u'Cruz')\n",
      "(u'Lonnie Gordon', u'Catch You Baby (Steve Pitron & Max Sanna Radio Edit)', u'Sylvie', u'Cruz')\n"
     ]
    }
   ],
   "source": [
    "# Select data accordingly to query 2\n",
    "query = \"\"\"SELECT artist, song, firstName, lastName from song_playlist_session \n",
    "            WHERE userId = 10 and sessionId = 182 ;\"\"\"\n",
    "try:\n",
    "    rows = session.execute(query)\n",
    "except Exception as e:\n",
    "    print (e)\n",
    "    \n",
    "for row in rows:\n",
    "    print (row.artist, row.song, row.firstname, row.lastname)"
   ]
  },
  {
   "cell_type": "code",
   "execution_count": 17,
   "metadata": {},
   "outputs": [],
   "source": [
    "# Drop Table\n",
    "session.execute('DROP TABLE song_playlist_session');"
   ]
  },
  {
   "cell_type": "markdown",
   "metadata": {},
   "source": [
    "### Query 3\n",
    "Return every user name (first and last) in my music app history who listened to the song 'All Hands Against His Own'\n",
    "- Partition Key: song\n",
    "- Cluster Column: userId\n",
    "- Composite Primary Key: (song, userId)\n",
    "- Additional Columns: firstName, lastName"
   ]
  },
  {
   "cell_type": "code",
   "execution_count": 18,
   "metadata": {},
   "outputs": [],
   "source": [
    "# Create Table\n",
    "query = \"CREATE TABLE IF NOT EXISTS user_songchoice_table \"\n",
    "query = query + \"(song varchar, userId int, \\\n",
    "                 firstName varchar, lastName varchar, \\\n",
    "                 PRIMARY KEY (song, userId))\"\n",
    "try:\n",
    "    session.execute(query)\n",
    "except Exception as e:\n",
    "    print (e)\n",
    "    "
   ]
  },
  {
   "cell_type": "code",
   "execution_count": 19,
   "metadata": {},
   "outputs": [],
   "source": [
    "# Insert Data From Previous Dataframe (csv)\n",
    "for index, row in df.iterrows():\n",
    "    query = \"INSERT INTO user_songchoice_table \\\n",
    "             (song, userId, \\\n",
    "             firstName, lastName) \"\n",
    "    query = query + \"VALUES (%s, %s, %s, %s)\"\n",
    "    session.execute(query, (row.song, int(row.userId), \n",
    "                            row.firstName, row.lastName))"
   ]
  },
  {
   "cell_type": "code",
   "execution_count": 20,
   "metadata": {},
   "outputs": [
    {
     "name": "stdout",
     "output_type": "stream",
     "text": [
      "(u'Jacqueline', u'Lynch')\n",
      "(u'Tegan', u'Levine')\n",
      "(u'Sara', u'Johnson')\n"
     ]
    }
   ],
   "source": [
    "# Select data according to query 3\n",
    "query = \"\"\"SELECT firstName, lastName from user_songchoice_table\n",
    "         WHERE song = 'All Hands Against His Own';\"\"\"\n",
    "try:\n",
    "    rows = session.execute(query)\n",
    "except Exception as e:\n",
    "    print (e)\n",
    "    \n",
    "for row in rows:\n",
    "    print (row.firstname, row.lastname)"
   ]
  },
  {
   "cell_type": "code",
   "execution_count": 21,
   "metadata": {},
   "outputs": [],
   "source": [
    "# Drop Table\n",
    "session.execute('DROP TABLE user_songchoice_table');"
   ]
  },
  {
   "cell_type": "code",
   "execution_count": 22,
   "metadata": {},
   "outputs": [],
   "source": [
    "# Close session and cluster connection\n",
    "session.shutdown()\n",
    "cluster.shutdown()"
   ]
  }
 ],
 "metadata": {
  "kernelspec": {
   "display_name": "Python 3",
   "language": "python",
   "name": "python3"
  },
  "language_info": {
   "codemirror_mode": {
    "name": "ipython",
    "version": 2
   },
   "file_extension": ".py",
   "mimetype": "text/x-python",
   "name": "python",
   "nbconvert_exporter": "python",
   "pygments_lexer": "ipython2",
   "version": "2.7.8"
  }
 },
 "nbformat": 4,
 "nbformat_minor": 2
}
